{
 "cells": [
  {
   "cell_type": "markdown",
   "metadata": {},
   "source": [
    "# Generate synpuf disclosure risk\n",
    "\n",
    "Compare synthetic PUFs trained from a 10% sample, both to the training set and a 10% holdout. Synthetic file (1) is from synthimpute random forests; (2) is from the synthpop R package."
   ]
  },
  {
   "cell_type": "markdown",
   "metadata": {},
   "source": [
    "## Setup\n",
    "\n",
    "### Imports"
   ]
  },
  {
   "cell_type": "code",
   "execution_count": 1,
   "metadata": {},
   "outputs": [
    {
     "name": "stderr",
     "output_type": "stream",
     "text": [
      "/home/maxghenis/miniconda3/lib/python3.6/site-packages/rpy2/rinterface/__init__.py:145: RRuntimeWarning: During startup - \n",
      "  warnings.warn(x, RRuntimeWarning)\n",
      "/home/maxghenis/miniconda3/lib/python3.6/site-packages/rpy2/rinterface/__init__.py:145: RRuntimeWarning: Warning message:\n",
      "\n",
      "  warnings.warn(x, RRuntimeWarning)\n",
      "/home/maxghenis/miniconda3/lib/python3.6/site-packages/rpy2/rinterface/__init__.py:145: RRuntimeWarning: package 'RevoUtils' was built under R version 3.4.3 \n",
      "\n",
      "  warnings.warn(x, RRuntimeWarning)\n"
     ]
    }
   ],
   "source": [
    "import pandas as pd\n",
    "import numpy as np\n",
    "import synthimpute as si\n",
    "import synpuf"
   ]
  },
  {
   "cell_type": "markdown",
   "metadata": {},
   "source": [
    "**UPDATE!**"
   ]
  },
  {
   "cell_type": "code",
   "execution_count": 2,
   "metadata": {},
   "outputs": [],
   "source": [
    "SYNTHESIS_ID = 19\n",
    "PCT_TRAIN = 100"
   ]
  },
  {
   "cell_type": "markdown",
   "metadata": {},
   "source": [
    "Folders."
   ]
  },
  {
   "cell_type": "code",
   "execution_count": 3,
   "metadata": {},
   "outputs": [],
   "source": [
    "PUF_SAMPLE_DIR = '~/Downloads/puf/'\n",
    "SYN_DIR = '~/Downloads/syntheses/'\n",
    "NEAREST_DIR = '~/Downloads/nearest/'"
   ]
  },
  {
   "cell_type": "markdown",
   "metadata": {},
   "source": [
    "### Load data"
   ]
  },
  {
   "cell_type": "code",
   "execution_count": 4,
   "metadata": {},
   "outputs": [],
   "source": [
    "synth = pd.read_csv(SYN_DIR + 'synpuf' + str(SYNTHESIS_ID) + '.csv')\n",
    "train = pd.read_csv(PUF_SAMPLE_DIR + 'puf.csv')"
   ]
  },
  {
   "cell_type": "markdown",
   "metadata": {},
   "source": [
    "## Preprocessing"
   ]
  },
  {
   "cell_type": "markdown",
   "metadata": {},
   "source": [
    "Drop calculated features used as seeds, and drop s006."
   ]
  },
  {
   "cell_type": "code",
   "execution_count": 5,
   "metadata": {},
   "outputs": [],
   "source": [
    "synpuf.add_subtracted_features(train)\n",
    "DROPS = ['S006', 'e00600_minus_e00650', 'e01500_minus_e01700',\n",
    "         'RECID', 'E00100', 'E09600']\n",
    "train.drop(DROPS, axis=1, inplace=True)\n",
    "synth.columns = [x.upper() for x in synth.columns]\n",
    "synth = synth[train.columns]"
   ]
  },
  {
   "cell_type": "code",
   "execution_count": 6,
   "metadata": {},
   "outputs": [
    {
     "data": {
      "text/plain": [
       "Index(['DSI', 'EIC', 'FDED', 'F2441', 'F6251', 'MARS', 'MIDR', 'N24', 'XTOT',\n",
       "       'E00200', 'E00300', 'E00400', 'E00650', 'E00700', 'E00800', 'E00900',\n",
       "       'E01100', 'E01200', 'E01400', 'E01700', 'E02000', 'E02100', 'E02300',\n",
       "       'E02400', 'E03150', 'E03210', 'E03220', 'E03230', 'E03270', 'E03240',\n",
       "       'E03290', 'E03300', 'E03400', 'E03500', 'E07240', 'E07260', 'E07300',\n",
       "       'E07400', 'E07600', 'P08000', 'E09700', 'E09800', 'E09900', 'E11200',\n",
       "       'E17500', 'E18400', 'E18500', 'E19200', 'E19800', 'E20100', 'E20400',\n",
       "       'P22250', 'P23250', 'E24515', 'E24518', 'E26270', 'E27200', 'E32800',\n",
       "       'E58990', 'E62900', 'E87521', 'E87530', 'E00600', 'E01500'],\n",
       "      dtype='object')"
      ]
     },
     "execution_count": 6,
     "metadata": {},
     "output_type": "execute_result"
    }
   ],
   "source": [
    "synth.columns"
   ]
  },
  {
   "cell_type": "code",
   "execution_count": 7,
   "metadata": {},
   "outputs": [],
   "source": [
    "synth.reset_index(drop=True, inplace=True)\n",
    "train.reset_index(drop=True, inplace=True)"
   ]
  },
  {
   "cell_type": "markdown",
   "metadata": {},
   "source": [
    "## Nearest calculation\n",
    "\n",
    "Compare nearest standardized Euclidean distance. Takes ~10 hours."
   ]
  },
  {
   "cell_type": "code",
   "execution_count": 8,
   "metadata": {},
   "outputs": [
    {
     "name": "stdout",
     "output_type": "stream",
     "text": [
      "CPU times: user 5min 9s, sys: 382 ms, total: 5min 9s\n",
      "Wall time: 5min 19s\n"
     ]
    }
   ],
   "source": [
    "%%time\n",
    "nearest = si.nearest_record(synth.sample(frac=0.01), train, k=3, scale=True)"
   ]
  },
  {
   "cell_type": "code",
   "execution_count": 9,
   "metadata": {},
   "outputs": [],
   "source": [
    "nearest.to_csv(NEAREST_DIR + 'nearest' + str(SYNTHESIS_ID) + '.csv',\n",
    "               index=False)"
   ]
  },
  {
   "cell_type": "code",
   "execution_count": 10,
   "metadata": {},
   "outputs": [],
   "source": [
    "n = nearest.copy(deep=True)"
   ]
  },
  {
   "cell_type": "code",
   "execution_count": 11,
   "metadata": {},
   "outputs": [],
   "source": [
    "n['min_dist'] = n[['dist1', 'dist2', 'dist3']].min(axis=1)\n",
    "n['max_dist'] = n[['dist1', 'dist2', 'dist3']].max(axis=1)\n",
    "n['mid_dist'] = n[['dist1', 'dist2', 'dist3']].sum(axis=1) - n.min_dist - n.max_dist"
   ]
  },
  {
   "cell_type": "code",
   "execution_count": 12,
   "metadata": {},
   "outputs": [],
   "source": [
    "n['min_id'] = np.where(n.min_dist == n.dist1, n.id_B1,\n",
    "                       np.where(n.min_dist == n.dist2, n.id_B2, n.id_B3))\n",
    "n['max_id'] = np.where(n.max_dist == n.dist1, n.id_B1,\n",
    "                       np.where(n.max_dist == n.dist2, n.id_B2, n.id_B3))\n",
    "n['mid_id'] = n[['id_B1', 'id_B2', 'id_B3']].sum(axis=1) - n.min_id - n.max_id"
   ]
  },
  {
   "cell_type": "code",
   "execution_count": 13,
   "metadata": {},
   "outputs": [],
   "source": [
    "n['id_B1'] = n.min_id\n",
    "n['id_B2'] = n.mid_id\n",
    "n['id_B3'] = n.max_id\n",
    "\n",
    "n['dist1'] = n.min_dist\n",
    "n['dist2'] = n.mid_dist\n",
    "n['dist3'] = n.max_dist"
   ]
  },
  {
   "cell_type": "code",
   "execution_count": 14,
   "metadata": {},
   "outputs": [
    {
     "data": {
      "text/html": [
       "<div>\n",
       "<style scoped>\n",
       "    .dataframe tbody tr th:only-of-type {\n",
       "        vertical-align: middle;\n",
       "    }\n",
       "\n",
       "    .dataframe tbody tr th {\n",
       "        vertical-align: top;\n",
       "    }\n",
       "\n",
       "    .dataframe thead th {\n",
       "        text-align: right;\n",
       "    }\n",
       "</style>\n",
       "<table border=\"1\" class=\"dataframe\">\n",
       "  <thead>\n",
       "    <tr style=\"text-align: right;\">\n",
       "      <th></th>\n",
       "      <th>id_A</th>\n",
       "      <th>id_B1</th>\n",
       "      <th>dist1</th>\n",
       "      <th>id_B2</th>\n",
       "      <th>dist2</th>\n",
       "      <th>id_B3</th>\n",
       "      <th>dist3</th>\n",
       "    </tr>\n",
       "  </thead>\n",
       "  <tbody>\n",
       "    <tr>\n",
       "      <th>count</th>\n",
       "      <td>8189.000000</td>\n",
       "      <td>8189.000000</td>\n",
       "      <td>8189.000000</td>\n",
       "      <td>8189.000000</td>\n",
       "      <td>8189.000000</td>\n",
       "      <td>8189.000000</td>\n",
       "      <td>8189.000000</td>\n",
       "    </tr>\n",
       "    <tr>\n",
       "      <th>mean</th>\n",
       "      <td>408247.440835</td>\n",
       "      <td>80032.443278</td>\n",
       "      <td>1.081254</td>\n",
       "      <td>78550.858102</td>\n",
       "      <td>1.227726</td>\n",
       "      <td>77808.400537</td>\n",
       "      <td>1.314152</td>\n",
       "    </tr>\n",
       "    <tr>\n",
       "      <th>std</th>\n",
       "      <td>236702.828076</td>\n",
       "      <td>45927.851420</td>\n",
       "      <td>2.615731</td>\n",
       "      <td>48342.867196</td>\n",
       "      <td>2.852204</td>\n",
       "      <td>46030.646529</td>\n",
       "      <td>3.020003</td>\n",
       "    </tr>\n",
       "    <tr>\n",
       "      <th>min</th>\n",
       "      <td>231.000000</td>\n",
       "      <td>15.000000</td>\n",
       "      <td>0.000000</td>\n",
       "      <td>-123039.000000</td>\n",
       "      <td>0.000000</td>\n",
       "      <td>22.000000</td>\n",
       "      <td>0.000000</td>\n",
       "    </tr>\n",
       "    <tr>\n",
       "      <th>25%</th>\n",
       "      <td>201078.000000</td>\n",
       "      <td>40697.000000</td>\n",
       "      <td>0.010564</td>\n",
       "      <td>39811.000000</td>\n",
       "      <td>0.019665</td>\n",
       "      <td>38394.000000</td>\n",
       "      <td>0.025777</td>\n",
       "    </tr>\n",
       "    <tr>\n",
       "      <th>50%</th>\n",
       "      <td>405459.000000</td>\n",
       "      <td>79977.000000</td>\n",
       "      <td>0.253818</td>\n",
       "      <td>78501.000000</td>\n",
       "      <td>0.334892</td>\n",
       "      <td>75710.000000</td>\n",
       "      <td>0.385035</td>\n",
       "    </tr>\n",
       "    <tr>\n",
       "      <th>75%</th>\n",
       "      <td>615916.000000</td>\n",
       "      <td>118502.000000</td>\n",
       "      <td>1.192497</td>\n",
       "      <td>117918.000000</td>\n",
       "      <td>1.392820</td>\n",
       "      <td>116358.000000</td>\n",
       "      <td>1.504100</td>\n",
       "    </tr>\n",
       "    <tr>\n",
       "      <th>max</th>\n",
       "      <td>818542.000000</td>\n",
       "      <td>163782.000000</td>\n",
       "      <td>74.086358</td>\n",
       "      <td>279208.000000</td>\n",
       "      <td>74.661010</td>\n",
       "      <td>163785.000000</td>\n",
       "      <td>75.261934</td>\n",
       "    </tr>\n",
       "  </tbody>\n",
       "</table>\n",
       "</div>"
      ],
      "text/plain": [
       "                id_A          id_B1        dist1          id_B2        dist2  \\\n",
       "count    8189.000000    8189.000000  8189.000000    8189.000000  8189.000000   \n",
       "mean   408247.440835   80032.443278     1.081254   78550.858102     1.227726   \n",
       "std    236702.828076   45927.851420     2.615731   48342.867196     2.852204   \n",
       "min       231.000000      15.000000     0.000000 -123039.000000     0.000000   \n",
       "25%    201078.000000   40697.000000     0.010564   39811.000000     0.019665   \n",
       "50%    405459.000000   79977.000000     0.253818   78501.000000     0.334892   \n",
       "75%    615916.000000  118502.000000     1.192497  117918.000000     1.392820   \n",
       "max    818542.000000  163782.000000    74.086358  279208.000000    74.661010   \n",
       "\n",
       "               id_B3        dist3  \n",
       "count    8189.000000  8189.000000  \n",
       "mean    77808.400537     1.314152  \n",
       "std     46030.646529     3.020003  \n",
       "min        22.000000     0.000000  \n",
       "25%     38394.000000     0.025777  \n",
       "50%     75710.000000     0.385035  \n",
       "75%    116358.000000     1.504100  \n",
       "max    163785.000000    75.261934  "
      ]
     },
     "execution_count": 14,
     "metadata": {},
     "output_type": "execute_result"
    }
   ],
   "source": [
    "n[nearest.columns].describe()"
   ]
  },
  {
   "cell_type": "code",
   "execution_count": 15,
   "metadata": {},
   "outputs": [],
   "source": [
    "n[nearest.columns].to_csv(NEAREST_DIR + 'nearest' + str(SYNTHESIS_ID) + '.csv',\n",
    "                          index=False)"
   ]
  }
 ],
 "metadata": {
  "kernelspec": {
   "display_name": "Python 3",
   "language": "python",
   "name": "python3"
  },
  "language_info": {
   "codemirror_mode": {
    "name": "ipython",
    "version": 3
   },
   "file_extension": ".py",
   "mimetype": "text/x-python",
   "name": "python",
   "nbconvert_exporter": "python",
   "pygments_lexer": "ipython3",
   "version": "3.6.6"
  }
 },
 "nbformat": 4,
 "nbformat_minor": 2
}
