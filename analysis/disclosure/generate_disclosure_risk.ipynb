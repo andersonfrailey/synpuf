{
 "cells": [
  {
   "cell_type": "markdown",
   "metadata": {},
   "source": [
    "# Generate synpuf disclosure risk\n",
    "\n",
    "Compare synthetic PUFs trained from a 10% sample, both to the training set and a 10% holdout. Synthetic file (1) is from synthimpute random forests; (2) is from the synthpop R package."
   ]
  },
  {
   "cell_type": "markdown",
   "metadata": {},
   "source": [
    "## Setup\n",
    "\n",
    "### Imports"
   ]
  },
  {
   "cell_type": "code",
   "execution_count": 1,
   "metadata": {},
   "outputs": [],
   "source": [
    "import pandas as pd\n",
    "import numpy as np\n",
    "import synthimpute as si"
   ]
  },
  {
   "cell_type": "markdown",
   "metadata": {},
   "source": [
    "### Load data"
   ]
  },
  {
   "cell_type": "code",
   "execution_count": 2,
   "metadata": {},
   "outputs": [],
   "source": [
    "synth = pd.read_csv('~/Downloads/puf_synth_10p_sample.csv')\n",
    "synthpop = pd.read_csv('~/Downloads/synthpop_samp.csv')\n",
    "train = pd.read_csv('~/Downloads/puf_10p_sample_train.csv')\n",
    "test = pd.read_csv('~/Downloads/puf_10p_sample_test.csv')"
   ]
  },
  {
   "cell_type": "markdown",
   "metadata": {},
   "source": [
    "## Preprocessing"
   ]
  },
  {
   "cell_type": "markdown",
   "metadata": {},
   "source": [
    "Drop calculated features used as seeds, and drop s006."
   ]
  },
  {
   "cell_type": "code",
   "execution_count": 3,
   "metadata": {},
   "outputs": [],
   "source": [
    "synth.drop(['E00100', 'E09600', 'S006'], axis=1, inplace=True)\n",
    "train.drop(['E00100', 'E09600', 'S006'], axis=1, inplace=True)\n",
    "test.drop(['E00100', 'E09600', 'S006'], axis=1, inplace=True)\n",
    "synthpop = synthpop[synth.columns]"
   ]
  },
  {
   "cell_type": "code",
   "execution_count": 4,
   "metadata": {},
   "outputs": [],
   "source": [
    "synthpop = synthpop[synth.columns]"
   ]
  },
  {
   "cell_type": "markdown",
   "metadata": {},
   "source": [
    "Check pending https://github.com/MaxGhenis/synthimpute/issues/8."
   ]
  },
  {
   "cell_type": "code",
   "execution_count": 5,
   "metadata": {},
   "outputs": [],
   "source": [
    "synth.reset_index(drop=True, inplace=True)\n",
    "synthpop.reset_index(drop=True, inplace=True)\n",
    "train.reset_index(drop=True, inplace=True)\n",
    "test.reset_index(drop=True, inplace=True)"
   ]
  },
  {
   "cell_type": "code",
   "execution_count": 6,
   "metadata": {},
   "outputs": [],
   "source": [
    "# TODO: Do this in the file creation.\n",
    "def add_subtracted_features(df):\n",
    "    df['E00600'] = df.E00650 + df.e00600_minus_e00650\n",
    "    df['E01500'] = df.E01700 + df.e01500_minus_e01700\n",
    "    df.drop(['e00600_minus_e00650', 'e01500_minus_e01700'], axis=1, inplace=True)\n",
    "    \n",
    "add_subtracted_features(train)\n",
    "add_subtracted_features(test)"
   ]
  },
  {
   "cell_type": "markdown",
   "metadata": {},
   "source": [
    "## RF\n",
    "\n",
    "Compare nearest standardized Euclidean distance."
   ]
  },
  {
   "cell_type": "code",
   "execution_count": 7,
   "metadata": {},
   "outputs": [],
   "source": [
    "BLOCKS = ['MARS', 'DSI', 'XTOT']  # Reduce after optimizing."
   ]
  },
  {
   "cell_type": "code",
   "execution_count": 8,
   "metadata": {},
   "outputs": [
    {
     "name": "stdout",
     "output_type": "stream",
     "text": [
      "Running block 1 of 15...\n",
      "Running block 2 of 15...\n",
      "Running block 3 of 15...\n",
      "Running block 4 of 15...\n",
      "Running block 5 of 15...\n",
      "Running block 6 of 15...\n",
      "Running block 7 of 15...\n",
      "Running block 8 of 15...\n",
      "Running block 9 of 15...\n",
      "Running block 10 of 15...\n",
      "Running block 11 of 15...\n",
      "Running block 12 of 15...\n",
      "Running block 13 of 15...\n",
      "Running block 14 of 15...\n",
      "Running block 15 of 15...\n",
      "Running block 1 of 15...\n",
      "Running block 2 of 15...\n",
      "Running block 3 of 15...\n",
      "Running block 4 of 15...\n",
      "Running block 5 of 15...\n",
      "Running block 6 of 15...\n",
      "Running block 7 of 15...\n",
      "Running block 8 of 15...\n",
      "Running block 9 of 15...\n",
      "Running block 10 of 15...\n",
      "Running block 11 of 15...\n",
      "Running block 12 of 15...\n",
      "Running block 13 of 15...\n",
      "Running block 14 of 15...\n",
      "Running block 15 of 15...\n",
      "CPU times: user 1min 46s, sys: 27.7 s, total: 2min 13s\n",
      "Wall time: 1min 49s\n"
     ]
    }
   ],
   "source": [
    "%%time\n",
    "nearest = si.nearest_synth_train_test(synth, train, test, BLOCKS, metric='euclidean')"
   ]
  },
  {
   "cell_type": "code",
   "execution_count": 9,
   "metadata": {},
   "outputs": [],
   "source": [
    "nearest.to_csv('~/Downloads/nearest_synpuf7.csv')"
   ]
  },
  {
   "cell_type": "markdown",
   "metadata": {},
   "source": [
    "## synthpop"
   ]
  },
  {
   "cell_type": "code",
   "execution_count": 10,
   "metadata": {},
   "outputs": [
    {
     "name": "stdout",
     "output_type": "stream",
     "text": [
      "Running block 1 of 14...\n",
      "Running block 2 of 14...\n",
      "Running block 3 of 14...\n",
      "Running block 4 of 14...\n",
      "Running block 5 of 14...\n",
      "Running block 6 of 14...\n",
      "Running block 7 of 14...\n",
      "Running block 8 of 14...\n",
      "Running block 9 of 14...\n",
      "Running block 10 of 14...\n",
      "Running block 11 of 14...\n",
      "Running block 12 of 14...\n",
      "Running block 13 of 14...\n",
      "Running block 14 of 14...\n",
      "Running block 1 of 14...\n",
      "Running block 2 of 14...\n",
      "Running block 3 of 14...\n",
      "Running block 4 of 14...\n",
      "Running block 5 of 14...\n",
      "Running block 6 of 14...\n",
      "Running block 7 of 14...\n",
      "Running block 8 of 14...\n",
      "Running block 9 of 14...\n",
      "Running block 10 of 14...\n",
      "Running block 11 of 14...\n",
      "Running block 12 of 14...\n",
      "Running block 13 of 14...\n",
      "Running block 14 of 14...\n",
      "CPU times: user 1min 42s, sys: 22.9 s, total: 2min 5s\n",
      "Wall time: 1min 42s\n"
     ]
    }
   ],
   "source": [
    "%%time\n",
    "nearest2 = si.nearest_synth_train_test(synthpop, train, test, BLOCKS, metric='euclidean')"
   ]
  },
  {
   "cell_type": "code",
   "execution_count": 11,
   "metadata": {},
   "outputs": [],
   "source": [
    "nearest2.to_csv('~/Downloads/nearest_synthpop_samp.csv')"
   ]
  }
 ],
 "metadata": {
  "kernelspec": {
   "display_name": "Python 3",
   "language": "python",
   "name": "python3"
  },
  "language_info": {
   "codemirror_mode": {
    "name": "ipython",
    "version": 3
   },
   "file_extension": ".py",
   "mimetype": "text/x-python",
   "name": "python",
   "nbconvert_exporter": "python",
   "pygments_lexer": "ipython3",
   "version": "3.6.6"
  }
 },
 "nbformat": 4,
 "nbformat_minor": 2
}
