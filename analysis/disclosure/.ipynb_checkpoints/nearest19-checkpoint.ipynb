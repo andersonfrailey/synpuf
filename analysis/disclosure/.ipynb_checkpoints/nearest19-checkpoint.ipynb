{
 "cells": [
  {
   "cell_type": "markdown",
   "metadata": {},
   "source": [
    "# Generate synpuf disclosure risk\n",
    "\n",
    "Compare synthetic PUFs trained from a 10% sample, both to the training set and a 10% holdout. Synthetic file (1) is from synthimpute random forests; (2) is from the synthpop R package."
   ]
  },
  {
   "cell_type": "markdown",
   "metadata": {},
   "source": [
    "## Setup\n",
    "\n",
    "### Imports"
   ]
  },
  {
   "cell_type": "code",
   "execution_count": 1,
   "metadata": {},
   "outputs": [
    {
     "name": "stderr",
     "output_type": "stream",
     "text": [
      "/home/maxghenis/miniconda3/lib/python3.6/site-packages/rpy2/rinterface/__init__.py:145: RRuntimeWarning: During startup - \n",
      "  warnings.warn(x, RRuntimeWarning)\n",
      "/home/maxghenis/miniconda3/lib/python3.6/site-packages/rpy2/rinterface/__init__.py:145: RRuntimeWarning: Warning message:\n",
      "\n",
      "  warnings.warn(x, RRuntimeWarning)\n",
      "/home/maxghenis/miniconda3/lib/python3.6/site-packages/rpy2/rinterface/__init__.py:145: RRuntimeWarning: package 'RevoUtils' was built under R version 3.4.3 \n",
      "\n",
      "  warnings.warn(x, RRuntimeWarning)\n"
     ]
    }
   ],
   "source": [
    "import pandas as pd\n",
    "import numpy as np\n",
    "import synthimpute as si\n",
    "import synpuf"
   ]
  },
  {
   "cell_type": "markdown",
   "metadata": {},
   "source": [
    "**UPDATE!**"
   ]
  },
  {
   "cell_type": "code",
   "execution_count": 2,
   "metadata": {},
   "outputs": [],
   "source": [
    "SYNTHESIS_ID = 19\n",
    "PCT_TRAIN = 100"
   ]
  },
  {
   "cell_type": "markdown",
   "metadata": {},
   "source": [
    "Folders."
   ]
  },
  {
   "cell_type": "code",
   "execution_count": 3,
   "metadata": {},
   "outputs": [],
   "source": [
    "PUF_SAMPLE_DIR = '~/Downloads/puf/'\n",
    "SYN_DIR = '~/Downloads/syntheses/'\n",
    "NEAREST_DIR = '~/Downloads/nearest/'"
   ]
  },
  {
   "cell_type": "markdown",
   "metadata": {},
   "source": [
    "### Load data"
   ]
  },
  {
   "cell_type": "code",
   "execution_count": 4,
   "metadata": {},
   "outputs": [],
   "source": [
    "synth = pd.read_csv(SYN_DIR + 'synpuf' + str(SYNTHESIS_ID) + '.csv')\n",
    "train = pd.read_csv(PUF_SAMPLE_DIR + 'puf.csv')"
   ]
  },
  {
   "cell_type": "markdown",
   "metadata": {},
   "source": [
    "## Preprocessing"
   ]
  },
  {
   "cell_type": "markdown",
   "metadata": {},
   "source": [
    "Drop calculated features used as seeds, and drop s006."
   ]
  },
  {
   "cell_type": "code",
   "execution_count": 5,
   "metadata": {},
   "outputs": [],
   "source": [
    "synpuf.add_subtracted_features(train)\n",
    "DROPS = ['S006', 'e00600_minus_e00650', 'e01500_minus_e01700',\n",
    "         'RECID', 'E00100', 'E09600']\n",
    "train.drop(DROPS, axis=1, inplace=True)\n",
    "synth.columns = [x.upper() for x in synth.columns]\n",
    "synth = synth[train.columns]"
   ]
  },
  {
   "cell_type": "code",
   "execution_count": 6,
   "metadata": {},
   "outputs": [
    {
     "data": {
      "text/plain": [
       "Index(['DSI', 'EIC', 'FDED', 'F2441', 'F6251', 'MARS', 'MIDR', 'N24', 'XTOT',\n",
       "       'E00200', 'E00300', 'E00400', 'E00650', 'E00700', 'E00800', 'E00900',\n",
       "       'E01100', 'E01200', 'E01400', 'E01700', 'E02000', 'E02100', 'E02300',\n",
       "       'E02400', 'E03150', 'E03210', 'E03220', 'E03230', 'E03270', 'E03240',\n",
       "       'E03290', 'E03300', 'E03400', 'E03500', 'E07240', 'E07260', 'E07300',\n",
       "       'E07400', 'E07600', 'P08000', 'E09700', 'E09800', 'E09900', 'E11200',\n",
       "       'E17500', 'E18400', 'E18500', 'E19200', 'E19800', 'E20100', 'E20400',\n",
       "       'P22250', 'P23250', 'E24515', 'E24518', 'E26270', 'E27200', 'E32800',\n",
       "       'E58990', 'E62900', 'E87521', 'E87530', 'E00600', 'E01500'],\n",
       "      dtype='object')"
      ]
     },
     "execution_count": 6,
     "metadata": {},
     "output_type": "execute_result"
    }
   ],
   "source": [
    "synth.columns"
   ]
  },
  {
   "cell_type": "code",
   "execution_count": 7,
   "metadata": {},
   "outputs": [],
   "source": [
    "synth.reset_index(drop=True, inplace=True)\n",
    "train.reset_index(drop=True, inplace=True)"
   ]
  },
  {
   "cell_type": "markdown",
   "metadata": {},
   "source": [
    "## Nearest calculation\n",
    "\n",
    "Compare nearest standardized Euclidean distance. Takes ~10 hours."
   ]
  },
  {
   "cell_type": "code",
   "execution_count": 8,
   "metadata": {},
   "outputs": [
    {
     "name": "stdout",
     "output_type": "stream",
     "text": [
      "CPU times: user 5min 29s, sys: 174 ms, total: 5min 29s\n",
      "Wall time: 5min 29s\n"
     ]
    }
   ],
   "source": [
    "%%time\n",
    "nearest = si.nearest_record(synth.sample(frac=0.01), train, k=3, scale=True)"
   ]
  },
  {
   "cell_type": "code",
   "execution_count": 9,
   "metadata": {},
   "outputs": [],
   "source": [
    "nearest.to_csv(NEAREST_DIR + 'nearest' + str(SYNTHESIS_ID) + '.csv',\n",
    "               index=False)"
   ]
  },
  {
   "cell_type": "code",
   "execution_count": 17,
   "metadata": {},
   "outputs": [],
   "source": [
    "n = nearest.copy(deep=True)"
   ]
  },
  {
   "cell_type": "code",
   "execution_count": 18,
   "metadata": {},
   "outputs": [],
   "source": [
    "n['min_dist'] = n[['dist1', 'dist2', 'dist3']].min(axis=1)\n",
    "n['max_dist'] = n[['dist1', 'dist2', 'dist3']].max(axis=1)\n",
    "n['mid_dist'] = n[['dist1', 'dist2', 'dist3']].sum(axis=1) - n.min_dist - n.max_dist"
   ]
  },
  {
   "cell_type": "code",
   "execution_count": 19,
   "metadata": {},
   "outputs": [],
   "source": [
    "n['min_id'] = np.where(n.min_dist == n.dist1, n.id_B1,\n",
    "                       np.where(n.min_dist == n.dist2, n.id_B2, n.id_B3))\n",
    "n['max_id'] = np.where(n.max_dist == n.dist1, n.id_B1,\n",
    "                       np.where(n.max_dist == n.dist2, n.id_B2, n.id_B3))\n",
    "n['mid_id'] = n[['id_B1', 'id_B2', 'id_B3']].sum(axis=1) - n.min_id - n.max_id"
   ]
  },
  {
   "cell_type": "code",
   "execution_count": 20,
   "metadata": {},
   "outputs": [],
   "source": [
    "n['id_B1'] = n.min_id\n",
    "n['id_B2'] = n.mid_id\n",
    "n['id_B3'] = n.max_id\n",
    "\n",
    "n['dist1'] = n.min_dist\n",
    "n['dist2'] = n.mid_dist\n",
    "n['dist3'] = n.max_dist"
   ]
  },
  {
   "cell_type": "code",
   "execution_count": 21,
   "metadata": {},
   "outputs": [
    {
     "data": {
      "text/html": [
       "<div>\n",
       "<style scoped>\n",
       "    .dataframe tbody tr th:only-of-type {\n",
       "        vertical-align: middle;\n",
       "    }\n",
       "\n",
       "    .dataframe tbody tr th {\n",
       "        vertical-align: top;\n",
       "    }\n",
       "\n",
       "    .dataframe thead th {\n",
       "        text-align: right;\n",
       "    }\n",
       "</style>\n",
       "<table border=\"1\" class=\"dataframe\">\n",
       "  <thead>\n",
       "    <tr style=\"text-align: right;\">\n",
       "      <th></th>\n",
       "      <th>id_A</th>\n",
       "      <th>id_B1</th>\n",
       "      <th>dist1</th>\n",
       "      <th>id_B2</th>\n",
       "      <th>dist2</th>\n",
       "      <th>id_B3</th>\n",
       "      <th>dist3</th>\n",
       "    </tr>\n",
       "  </thead>\n",
       "  <tbody>\n",
       "    <tr>\n",
       "      <th>count</th>\n",
       "      <td>9827.000000</td>\n",
       "      <td>9827.000000</td>\n",
       "      <td>9827.000000</td>\n",
       "      <td>9827.000000</td>\n",
       "      <td>9827.000000</td>\n",
       "      <td>9827.000000</td>\n",
       "      <td>9827.000000</td>\n",
       "    </tr>\n",
       "    <tr>\n",
       "      <th>mean</th>\n",
       "      <td>492458.996337</td>\n",
       "      <td>80735.078559</td>\n",
       "      <td>0.832046</td>\n",
       "      <td>79475.105933</td>\n",
       "      <td>1.072929</td>\n",
       "      <td>79157.413249</td>\n",
       "      <td>1.164712</td>\n",
       "    </tr>\n",
       "    <tr>\n",
       "      <th>std</th>\n",
       "      <td>284205.561610</td>\n",
       "      <td>46333.491433</td>\n",
       "      <td>2.664477</td>\n",
       "      <td>48343.106459</td>\n",
       "      <td>3.015593</td>\n",
       "      <td>46334.837067</td>\n",
       "      <td>3.215597</td>\n",
       "    </tr>\n",
       "    <tr>\n",
       "      <th>min</th>\n",
       "      <td>151.000000</td>\n",
       "      <td>7.000000</td>\n",
       "      <td>0.000000</td>\n",
       "      <td>-139782.000000</td>\n",
       "      <td>0.000000</td>\n",
       "      <td>29.000000</td>\n",
       "      <td>0.000000</td>\n",
       "    </tr>\n",
       "    <tr>\n",
       "      <th>25%</th>\n",
       "      <td>247226.000000</td>\n",
       "      <td>41229.500000</td>\n",
       "      <td>0.000053</td>\n",
       "      <td>40470.000000</td>\n",
       "      <td>0.015679</td>\n",
       "      <td>39069.000000</td>\n",
       "      <td>0.021387</td>\n",
       "    </tr>\n",
       "    <tr>\n",
       "      <th>50%</th>\n",
       "      <td>493023.000000</td>\n",
       "      <td>80424.000000</td>\n",
       "      <td>0.085295</td>\n",
       "      <td>79541.000000</td>\n",
       "      <td>0.264829</td>\n",
       "      <td>78491.000000</td>\n",
       "      <td>0.313235</td>\n",
       "    </tr>\n",
       "    <tr>\n",
       "      <th>75%</th>\n",
       "      <td>738656.500000</td>\n",
       "      <td>120106.500000</td>\n",
       "      <td>0.800221</td>\n",
       "      <td>118856.000000</td>\n",
       "      <td>1.159531</td>\n",
       "      <td>118431.500000</td>\n",
       "      <td>1.306544</td>\n",
       "    </tr>\n",
       "    <tr>\n",
       "      <th>max</th>\n",
       "      <td>982523.000000</td>\n",
       "      <td>163711.000000</td>\n",
       "      <td>103.257936</td>\n",
       "      <td>269097.000000</td>\n",
       "      <td>105.411685</td>\n",
       "      <td>163781.000000</td>\n",
       "      <td>106.744158</td>\n",
       "    </tr>\n",
       "  </tbody>\n",
       "</table>\n",
       "</div>"
      ],
      "text/plain": [
       "                id_A          id_B1        dist1          id_B2        dist2  \\\n",
       "count    9827.000000    9827.000000  9827.000000    9827.000000  9827.000000   \n",
       "mean   492458.996337   80735.078559     0.832046   79475.105933     1.072929   \n",
       "std    284205.561610   46333.491433     2.664477   48343.106459     3.015593   \n",
       "min       151.000000       7.000000     0.000000 -139782.000000     0.000000   \n",
       "25%    247226.000000   41229.500000     0.000053   40470.000000     0.015679   \n",
       "50%    493023.000000   80424.000000     0.085295   79541.000000     0.264829   \n",
       "75%    738656.500000  120106.500000     0.800221  118856.000000     1.159531   \n",
       "max    982523.000000  163711.000000   103.257936  269097.000000   105.411685   \n",
       "\n",
       "               id_B3        dist3  \n",
       "count    9827.000000  9827.000000  \n",
       "mean    79157.413249     1.164712  \n",
       "std     46334.837067     3.215597  \n",
       "min        29.000000     0.000000  \n",
       "25%     39069.000000     0.021387  \n",
       "50%     78491.000000     0.313235  \n",
       "75%    118431.500000     1.306544  \n",
       "max    163781.000000   106.744158  "
      ]
     },
     "execution_count": 21,
     "metadata": {},
     "output_type": "execute_result"
    }
   ],
   "source": [
    "n[nearest.columns].describe()"
   ]
  },
  {
   "cell_type": "code",
   "execution_count": 22,
   "metadata": {},
   "outputs": [],
   "source": [
    "n[nearest.columns].to_csv(NEAREST_DIR + 'nearest' + str(SYNTHESIS_ID) + '.csv',\n",
    "                          index=False)"
   ]
  }
 ],
 "metadata": {
  "kernelspec": {
   "display_name": "Python 3",
   "language": "python",
   "name": "python3"
  },
  "language_info": {
   "codemirror_mode": {
    "name": "ipython",
    "version": 3
   },
   "file_extension": ".py",
   "mimetype": "text/x-python",
   "name": "python",
   "nbconvert_exporter": "python",
   "pygments_lexer": "ipython3",
   "version": "3.6.6"
  }
 },
 "nbformat": 4,
 "nbformat_minor": 2
}
