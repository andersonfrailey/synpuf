{
 "cells": [
  {
   "cell_type": "markdown",
   "metadata": {},
   "source": [
    "# Generate synpuf disclosure risk\n",
    "\n",
    "Compare synthetic PUFs trained from a 10% sample, both to the training set and a 10% holdout. Synthetic file (1) is from synthimpute random forests; (2) is from the synthpop R package."
   ]
  },
  {
   "cell_type": "markdown",
   "metadata": {},
   "source": [
    "## Setup\n",
    "\n",
    "### Imports"
   ]
  },
  {
   "cell_type": "code",
   "execution_count": 1,
   "metadata": {},
   "outputs": [
    {
     "name": "stderr",
     "output_type": "stream",
     "text": [
      "/home/maxghenis/miniconda3/lib/python3.6/site-packages/rpy2/rinterface/__init__.py:145: RRuntimeWarning: During startup - \n",
      "  warnings.warn(x, RRuntimeWarning)\n",
      "/home/maxghenis/miniconda3/lib/python3.6/site-packages/rpy2/rinterface/__init__.py:145: RRuntimeWarning: Warning message:\n",
      "\n",
      "  warnings.warn(x, RRuntimeWarning)\n",
      "/home/maxghenis/miniconda3/lib/python3.6/site-packages/rpy2/rinterface/__init__.py:145: RRuntimeWarning: package 'RevoUtils' was built under R version 3.4.3 \n",
      "\n",
      "  warnings.warn(x, RRuntimeWarning)\n"
     ]
    }
   ],
   "source": [
    "import pandas as pd\n",
    "import numpy as np\n",
    "import synthimpute as si\n",
    "import synpuf"
   ]
  },
  {
   "cell_type": "markdown",
   "metadata": {},
   "source": [
    "**UPDATE!**"
   ]
  },
  {
   "cell_type": "code",
   "execution_count": 2,
   "metadata": {},
   "outputs": [],
   "source": [
    "SYNTHESIS_ID = 17\n",
    "PCT_TRAIN = 100"
   ]
  },
  {
   "cell_type": "markdown",
   "metadata": {},
   "source": [
    "Folders."
   ]
  },
  {
   "cell_type": "code",
   "execution_count": 3,
   "metadata": {},
   "outputs": [],
   "source": [
    "PUF_SAMPLE_DIR = '~/Downloads/puf/'\n",
    "SYN_DIR = '~/Downloads/syntheses/'\n",
    "NEAREST_DIR = '~/Downloads/nearest/'"
   ]
  },
  {
   "cell_type": "markdown",
   "metadata": {},
   "source": [
    "### Load data"
   ]
  },
  {
   "cell_type": "code",
   "execution_count": 4,
   "metadata": {},
   "outputs": [],
   "source": [
    "synth = pd.read_csv(SYN_DIR + 'synpuf' + str(SYNTHESIS_ID) + '.csv')\n",
    "train = pd.read_csv(PUF_SAMPLE_DIR + 'puf.csv')"
   ]
  },
  {
   "cell_type": "markdown",
   "metadata": {},
   "source": [
    "## Preprocessing"
   ]
  },
  {
   "cell_type": "markdown",
   "metadata": {},
   "source": [
    "Drop calculated features used as seeds, and drop s006."
   ]
  },
  {
   "cell_type": "code",
   "execution_count": 5,
   "metadata": {},
   "outputs": [],
   "source": [
    "synpuf.add_subtracted_features(train)\n",
    "DROPS = ['S006', 'e00600_minus_e00650', 'e01500_minus_e01700',\n",
    "         'RECID', 'E00100', 'E09600']\n",
    "train.drop(DROPS, axis=1, inplace=True)\n",
    "synth.columns = [x.upper() for x in synth.columns]\n",
    "synth = synth[train.columns]"
   ]
  },
  {
   "cell_type": "code",
   "execution_count": 6,
   "metadata": {},
   "outputs": [
    {
     "data": {
      "text/plain": [
       "Index(['DSI', 'EIC', 'FDED', 'F2441', 'F6251', 'MARS', 'MIDR', 'N24', 'XTOT',\n",
       "       'E00200', 'E00300', 'E00400', 'E00650', 'E00700', 'E00800', 'E00900',\n",
       "       'E01100', 'E01200', 'E01400', 'E01700', 'E02000', 'E02100', 'E02300',\n",
       "       'E02400', 'E03150', 'E03210', 'E03220', 'E03230', 'E03270', 'E03240',\n",
       "       'E03290', 'E03300', 'E03400', 'E03500', 'E07240', 'E07260', 'E07300',\n",
       "       'E07400', 'E07600', 'P08000', 'E09700', 'E09800', 'E09900', 'E11200',\n",
       "       'E17500', 'E18400', 'E18500', 'E19200', 'E19800', 'E20100', 'E20400',\n",
       "       'P22250', 'P23250', 'E24515', 'E24518', 'E26270', 'E27200', 'E32800',\n",
       "       'E58990', 'E62900', 'E87521', 'E87530', 'E00600', 'E01500'],\n",
       "      dtype='object')"
      ]
     },
     "execution_count": 6,
     "metadata": {},
     "output_type": "execute_result"
    }
   ],
   "source": [
    "synth.columns"
   ]
  },
  {
   "cell_type": "code",
   "execution_count": 7,
   "metadata": {},
   "outputs": [],
   "source": [
    "synth.reset_index(drop=True, inplace=True)\n",
    "train.reset_index(drop=True, inplace=True)"
   ]
  },
  {
   "cell_type": "markdown",
   "metadata": {},
   "source": [
    "## Nearest calculation\n",
    "\n",
    "Compare nearest standardized Euclidean distance. Takes ~10 hours."
   ]
  },
  {
   "cell_type": "code",
   "execution_count": 37,
   "metadata": {},
   "outputs": [
    {
     "name": "stdout",
     "output_type": "stream",
     "text": [
      "CPU times: user 4min 56s, sys: 151 ms, total: 4min 56s\n",
      "Wall time: 4min 56s\n"
     ]
    }
   ],
   "source": [
    "%%time\n",
    "nearest = si.nearest_record(synth.sample(frac=0.01), train, k=3, scale=True)"
   ]
  },
  {
   "cell_type": "code",
   "execution_count": 36,
   "metadata": {},
   "outputs": [
    {
     "data": {
      "text/plain": [
       "0"
      ]
     },
     "execution_count": 36,
     "metadata": {},
     "output_type": "execute_result"
    }
   ],
   "source": [
    "XA = synth.sample(frac=0.005)\n",
    "means = XA.mean()\n",
    "stds = XA.std()\n",
    "((XA - means) / stds).isnull().sum().sum()"
   ]
  },
  {
   "cell_type": "code",
   "execution_count": 38,
   "metadata": {},
   "outputs": [
    {
     "data": {
      "text/html": [
       "<div>\n",
       "<style scoped>\n",
       "    .dataframe tbody tr th:only-of-type {\n",
       "        vertical-align: middle;\n",
       "    }\n",
       "\n",
       "    .dataframe tbody tr th {\n",
       "        vertical-align: top;\n",
       "    }\n",
       "\n",
       "    .dataframe thead th {\n",
       "        text-align: right;\n",
       "    }\n",
       "</style>\n",
       "<table border=\"1\" class=\"dataframe\">\n",
       "  <thead>\n",
       "    <tr style=\"text-align: right;\">\n",
       "      <th></th>\n",
       "      <th>id_A</th>\n",
       "      <th>id_B1</th>\n",
       "      <th>dist1</th>\n",
       "      <th>id_B2</th>\n",
       "      <th>dist2</th>\n",
       "      <th>id_B3</th>\n",
       "      <th>dist3</th>\n",
       "    </tr>\n",
       "  </thead>\n",
       "  <tbody>\n",
       "    <tr>\n",
       "      <th>count</th>\n",
       "      <td>8189.000000</td>\n",
       "      <td>8189.000000</td>\n",
       "      <td>8189.000000</td>\n",
       "      <td>8189.000000</td>\n",
       "      <td>8189.000000</td>\n",
       "      <td>8189.000000</td>\n",
       "      <td>8189.000000</td>\n",
       "    </tr>\n",
       "    <tr>\n",
       "      <th>mean</th>\n",
       "      <td>406508.659665</td>\n",
       "      <td>75527.957992</td>\n",
       "      <td>1.307980</td>\n",
       "      <td>75775.094273</td>\n",
       "      <td>1.370221</td>\n",
       "      <td>74506.290390</td>\n",
       "      <td>1.470100</td>\n",
       "    </tr>\n",
       "    <tr>\n",
       "      <th>std</th>\n",
       "      <td>235531.961951</td>\n",
       "      <td>47002.877388</td>\n",
       "      <td>2.945142</td>\n",
       "      <td>47102.515958</td>\n",
       "      <td>3.102298</td>\n",
       "      <td>47305.750708</td>\n",
       "      <td>3.228872</td>\n",
       "    </tr>\n",
       "    <tr>\n",
       "      <th>min</th>\n",
       "      <td>121.000000</td>\n",
       "      <td>131.000000</td>\n",
       "      <td>0.000000</td>\n",
       "      <td>130.000000</td>\n",
       "      <td>0.000000</td>\n",
       "      <td>130.000000</td>\n",
       "      <td>0.000000</td>\n",
       "    </tr>\n",
       "    <tr>\n",
       "      <th>25%</th>\n",
       "      <td>199901.000000</td>\n",
       "      <td>33642.000000</td>\n",
       "      <td>0.141111</td>\n",
       "      <td>33625.000000</td>\n",
       "      <td>0.165039</td>\n",
       "      <td>31624.000000</td>\n",
       "      <td>0.209669</td>\n",
       "    </tr>\n",
       "    <tr>\n",
       "      <th>50%</th>\n",
       "      <td>405861.000000</td>\n",
       "      <td>73629.000000</td>\n",
       "      <td>0.579294</td>\n",
       "      <td>73837.000000</td>\n",
       "      <td>0.625315</td>\n",
       "      <td>72481.000000</td>\n",
       "      <td>0.717788</td>\n",
       "    </tr>\n",
       "    <tr>\n",
       "      <th>75%</th>\n",
       "      <td>609068.000000</td>\n",
       "      <td>115463.000000</td>\n",
       "      <td>1.430050</td>\n",
       "      <td>116299.000000</td>\n",
       "      <td>1.487130</td>\n",
       "      <td>114154.000000</td>\n",
       "      <td>1.603360</td>\n",
       "    </tr>\n",
       "    <tr>\n",
       "      <th>max</th>\n",
       "      <td>818921.000000</td>\n",
       "      <td>163733.000000</td>\n",
       "      <td>104.909860</td>\n",
       "      <td>163782.000000</td>\n",
       "      <td>110.575039</td>\n",
       "      <td>163783.000000</td>\n",
       "      <td>115.252957</td>\n",
       "    </tr>\n",
       "  </tbody>\n",
       "</table>\n",
       "</div>"
      ],
      "text/plain": [
       "                id_A          id_B1        dist1          id_B2        dist2  \\\n",
       "count    8189.000000    8189.000000  8189.000000    8189.000000  8189.000000   \n",
       "mean   406508.659665   75527.957992     1.307980   75775.094273     1.370221   \n",
       "std    235531.961951   47002.877388     2.945142   47102.515958     3.102298   \n",
       "min       121.000000     131.000000     0.000000     130.000000     0.000000   \n",
       "25%    199901.000000   33642.000000     0.141111   33625.000000     0.165039   \n",
       "50%    405861.000000   73629.000000     0.579294   73837.000000     0.625315   \n",
       "75%    609068.000000  115463.000000     1.430050  116299.000000     1.487130   \n",
       "max    818921.000000  163733.000000   104.909860  163782.000000   110.575039   \n",
       "\n",
       "               id_B3        dist3  \n",
       "count    8189.000000  8189.000000  \n",
       "mean    74506.290390     1.470100  \n",
       "std     47305.750708     3.228872  \n",
       "min       130.000000     0.000000  \n",
       "25%     31624.000000     0.209669  \n",
       "50%     72481.000000     0.717788  \n",
       "75%    114154.000000     1.603360  \n",
       "max    163783.000000   115.252957  "
      ]
     },
     "execution_count": 38,
     "metadata": {},
     "output_type": "execute_result"
    }
   ],
   "source": [
    "nearest.describe()"
   ]
  },
  {
   "cell_type": "code",
   "execution_count": 10,
   "metadata": {},
   "outputs": [],
   "source": [
    "nearest.to_csv(NEAREST_DIR + 'nearest' + str(SYNTHESIS_ID) + '.csv',\n",
    "               index=False)"
   ]
  },
  {
   "cell_type": "code",
   "execution_count": 47,
   "metadata": {},
   "outputs": [],
   "source": [
    "n = nearest.copy(deep=True)"
   ]
  },
  {
   "cell_type": "code",
   "execution_count": 48,
   "metadata": {},
   "outputs": [],
   "source": [
    "n['min_dist'] = n[['dist1', 'dist2', 'dist3']].min(axis=1)\n",
    "n['max_dist'] = n[['dist1', 'dist2', 'dist3']].max(axis=1)\n",
    "n['mid_dist'] = n[['dist1', 'dist2', 'dist3']].sum(axis=1) - n.min_dist - n.max_dist"
   ]
  },
  {
   "cell_type": "code",
   "execution_count": 49,
   "metadata": {},
   "outputs": [],
   "source": [
    "n['min_id'] = np.where(n.min_dist == n.dist1, n.id_B1,\n",
    "                       np.where(n.min_dist == n.dist2, n.id_B2, n.id_B3))\n",
    "n['max_id'] = np.where(n.max_dist == n.dist1, n.id_B1,\n",
    "                       np.where(n.max_dist == n.dist2, n.id_B2, n.id_B3))\n",
    "n['mid_id'] = n[['id_B1', 'id_B2', 'id_B3']].sum(axis=1) - n.min_id - n.max_id"
   ]
  },
  {
   "cell_type": "code",
   "execution_count": 50,
   "metadata": {},
   "outputs": [],
   "source": [
    "n['id_B1'] = n.min_id\n",
    "n['id_B2'] = n.mid_id\n",
    "n['id_B3'] = n.max_id\n",
    "\n",
    "n['dist1'] = n.min_dist\n",
    "n['dist2'] = n.mid_dist\n",
    "n['dist3'] = n.max_dist"
   ]
  },
  {
   "cell_type": "code",
   "execution_count": 51,
   "metadata": {},
   "outputs": [
    {
     "data": {
      "text/html": [
       "<div>\n",
       "<style scoped>\n",
       "    .dataframe tbody tr th:only-of-type {\n",
       "        vertical-align: middle;\n",
       "    }\n",
       "\n",
       "    .dataframe tbody tr th {\n",
       "        vertical-align: top;\n",
       "    }\n",
       "\n",
       "    .dataframe thead th {\n",
       "        text-align: right;\n",
       "    }\n",
       "</style>\n",
       "<table border=\"1\" class=\"dataframe\">\n",
       "  <thead>\n",
       "    <tr style=\"text-align: right;\">\n",
       "      <th></th>\n",
       "      <th>id_A</th>\n",
       "      <th>id_B1</th>\n",
       "      <th>dist1</th>\n",
       "      <th>id_B2</th>\n",
       "      <th>dist2</th>\n",
       "      <th>id_B3</th>\n",
       "      <th>dist3</th>\n",
       "    </tr>\n",
       "  </thead>\n",
       "  <tbody>\n",
       "    <tr>\n",
       "      <th>count</th>\n",
       "      <td>8189.000000</td>\n",
       "      <td>8189.000000</td>\n",
       "      <td>8189.000000</td>\n",
       "      <td>8189.000000</td>\n",
       "      <td>8189.000000</td>\n",
       "      <td>8189.000000</td>\n",
       "      <td>8189.000000</td>\n",
       "    </tr>\n",
       "    <tr>\n",
       "      <th>mean</th>\n",
       "      <td>406508.659665</td>\n",
       "      <td>75051.594090</td>\n",
       "      <td>1.223916</td>\n",
       "      <td>76536.427647</td>\n",
       "      <td>1.414414</td>\n",
       "      <td>74221.320918</td>\n",
       "      <td>1.509970</td>\n",
       "    </tr>\n",
       "    <tr>\n",
       "      <th>std</th>\n",
       "      <td>235531.961951</td>\n",
       "      <td>47354.913184</td>\n",
       "      <td>2.872669</td>\n",
       "      <td>47117.254280</td>\n",
       "      <td>3.127181</td>\n",
       "      <td>47384.808385</td>\n",
       "      <td>3.265456</td>\n",
       "    </tr>\n",
       "    <tr>\n",
       "      <th>min</th>\n",
       "      <td>121.000000</td>\n",
       "      <td>131.000000</td>\n",
       "      <td>0.000000</td>\n",
       "      <td>-42101.000000</td>\n",
       "      <td>0.000000</td>\n",
       "      <td>130.000000</td>\n",
       "      <td>0.000000</td>\n",
       "    </tr>\n",
       "    <tr>\n",
       "      <th>25%</th>\n",
       "      <td>199901.000000</td>\n",
       "      <td>32690.000000</td>\n",
       "      <td>0.105027</td>\n",
       "      <td>34387.000000</td>\n",
       "      <td>0.188821</td>\n",
       "      <td>30989.000000</td>\n",
       "      <td>0.227380</td>\n",
       "    </tr>\n",
       "    <tr>\n",
       "      <th>50%</th>\n",
       "      <td>405861.000000</td>\n",
       "      <td>73694.000000</td>\n",
       "      <td>0.509639</td>\n",
       "      <td>74663.000000</td>\n",
       "      <td>0.673940</td>\n",
       "      <td>71543.000000</td>\n",
       "      <td>0.756264</td>\n",
       "    </tr>\n",
       "    <tr>\n",
       "      <th>75%</th>\n",
       "      <td>609068.000000</td>\n",
       "      <td>115032.000000</td>\n",
       "      <td>1.326712</td>\n",
       "      <td>117116.000000</td>\n",
       "      <td>1.534164</td>\n",
       "      <td>114474.000000</td>\n",
       "      <td>1.645695</td>\n",
       "    </tr>\n",
       "    <tr>\n",
       "      <th>max</th>\n",
       "      <td>818921.000000</td>\n",
       "      <td>163733.000000</td>\n",
       "      <td>104.909860</td>\n",
       "      <td>282200.000000</td>\n",
       "      <td>110.575039</td>\n",
       "      <td>163783.000000</td>\n",
       "      <td>115.252957</td>\n",
       "    </tr>\n",
       "  </tbody>\n",
       "</table>\n",
       "</div>"
      ],
      "text/plain": [
       "                id_A          id_B1        dist1          id_B2        dist2  \\\n",
       "count    8189.000000    8189.000000  8189.000000    8189.000000  8189.000000   \n",
       "mean   406508.659665   75051.594090     1.223916   76536.427647     1.414414   \n",
       "std    235531.961951   47354.913184     2.872669   47117.254280     3.127181   \n",
       "min       121.000000     131.000000     0.000000  -42101.000000     0.000000   \n",
       "25%    199901.000000   32690.000000     0.105027   34387.000000     0.188821   \n",
       "50%    405861.000000   73694.000000     0.509639   74663.000000     0.673940   \n",
       "75%    609068.000000  115032.000000     1.326712  117116.000000     1.534164   \n",
       "max    818921.000000  163733.000000   104.909860  282200.000000   110.575039   \n",
       "\n",
       "               id_B3        dist3  \n",
       "count    8189.000000  8189.000000  \n",
       "mean    74221.320918     1.509970  \n",
       "std     47384.808385     3.265456  \n",
       "min       130.000000     0.000000  \n",
       "25%     30989.000000     0.227380  \n",
       "50%     71543.000000     0.756264  \n",
       "75%    114474.000000     1.645695  \n",
       "max    163783.000000   115.252957  "
      ]
     },
     "execution_count": 51,
     "metadata": {},
     "output_type": "execute_result"
    }
   ],
   "source": [
    "n[nearest.columns].describe()"
   ]
  },
  {
   "cell_type": "code",
   "execution_count": 52,
   "metadata": {},
   "outputs": [],
   "source": [
    "n[nearest.columns].to_csv(NEAREST_DIR + 'nearest' + str(SYNTHESIS_ID) + '.csv',\n",
    "                          index=False)"
   ]
  }
 ],
 "metadata": {
  "kernelspec": {
   "display_name": "Python 3",
   "language": "python",
   "name": "python3"
  },
  "language_info": {
   "codemirror_mode": {
    "name": "ipython",
    "version": 3
   },
   "file_extension": ".py",
   "mimetype": "text/x-python",
   "name": "python",
   "nbconvert_exporter": "python",
   "pygments_lexer": "ipython3",
   "version": "3.6.6"
  }
 },
 "nbformat": 4,
 "nbformat_minor": 2
}
