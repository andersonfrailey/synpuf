{
 "cells": [
  {
   "cell_type": "markdown",
   "metadata": {},
   "source": [
    "# Generate synpuf disclosure risk\n",
    "\n",
    "Compare synthetic PUFs trained from a 10% sample, both to the training set and a 10% holdout. Synthetic file (1) is from synthimpute random forests; (2) is from the synthpop R package."
   ]
  },
  {
   "cell_type": "markdown",
   "metadata": {},
   "source": [
    "## Setup\n",
    "\n",
    "### Imports"
   ]
  },
  {
   "cell_type": "code",
   "execution_count": 1,
   "metadata": {},
   "outputs": [
    {
     "name": "stderr",
     "output_type": "stream",
     "text": [
      "/home/maxghenis/miniconda3/lib/python3.6/site-packages/rpy2/rinterface/__init__.py:145: RRuntimeWarning: During startup - \n",
      "  warnings.warn(x, RRuntimeWarning)\n",
      "/home/maxghenis/miniconda3/lib/python3.6/site-packages/rpy2/rinterface/__init__.py:145: RRuntimeWarning: Warning message:\n",
      "\n",
      "  warnings.warn(x, RRuntimeWarning)\n",
      "/home/maxghenis/miniconda3/lib/python3.6/site-packages/rpy2/rinterface/__init__.py:145: RRuntimeWarning: package 'RevoUtils' was built under R version 3.4.3 \n",
      "\n",
      "  warnings.warn(x, RRuntimeWarning)\n"
     ]
    }
   ],
   "source": [
    "import pandas as pd\n",
    "import numpy as np\n",
    "import synthimpute as si\n",
    "import synpuf"
   ]
  },
  {
   "cell_type": "markdown",
   "metadata": {},
   "source": [
    "### Load data"
   ]
  },
  {
   "cell_type": "code",
   "execution_count": 2,
   "metadata": {},
   "outputs": [],
   "source": [
    "synth = pd.read_csv('~/Downloads/puf_synth_50p_sample.csv')\n",
    "synthpop = pd.read_csv('~/Downloads/puf_synthpop_50p_sample.csv')\n",
    "train = pd.read_csv('~/Downloads/puf_50p_sample_train.csv')\n",
    "test = pd.read_csv('~/Downloads/puf_50p_sample_test.csv')"
   ]
  },
  {
   "cell_type": "markdown",
   "metadata": {},
   "source": [
    "## Preprocessing"
   ]
  },
  {
   "cell_type": "markdown",
   "metadata": {},
   "source": [
    "Drop calculated features used as seeds, and drop s006."
   ]
  },
  {
   "cell_type": "code",
   "execution_count": 3,
   "metadata": {},
   "outputs": [],
   "source": [
    "# These won't be needed when re-running with new rf_synth code.\n",
    "synth.drop(['S006', 'E00100', 'E09600'], axis=1, inplace=True)\n",
    "synthpop.drop(['S006'], axis=1, inplace=True)\n",
    "train.drop('S006', axis=1, inplace=True)\n",
    "test.drop('S006', axis=1, inplace=True)\n",
    "synpuf.add_subtracted_features(train)\n",
    "synpuf.add_subtracted_features(test)\n",
    "synth = synth[train.columns]\n",
    "synthpop = synthpop[train.columns]"
   ]
  },
  {
   "cell_type": "markdown",
   "metadata": {},
   "source": [
    "Check pending https://github.com/MaxGhenis/synthimpute/issues/8."
   ]
  },
  {
   "cell_type": "code",
   "execution_count": 4,
   "metadata": {},
   "outputs": [],
   "source": [
    "# synthpop = synthpop[synth.columns]"
   ]
  },
  {
   "cell_type": "code",
   "execution_count": 5,
   "metadata": {},
   "outputs": [],
   "source": [
    "synth.reset_index(drop=True, inplace=True)\n",
    "synthpop.reset_index(drop=True, inplace=True)\n",
    "train.reset_index(drop=True, inplace=True)\n",
    "test.reset_index(drop=True, inplace=True)"
   ]
  },
  {
   "cell_type": "markdown",
   "metadata": {},
   "source": [
    "## Nearest calculation\n",
    "\n",
    "Compare nearest standardized Euclidean distance. Takes ~10 hours."
   ]
  },
  {
   "cell_type": "code",
   "execution_count": 6,
   "metadata": {},
   "outputs": [
    {
     "name": "stdout",
     "output_type": "stream",
     "text": [
      "Calculating nearest records to training set...\n",
      "Calculating nearest records to test set...\n",
      "CPU times: user 54min 32s, sys: 41min 24s, total: 1h 35min 56s\n",
      "Wall time: 10h 10min 19s\n"
     ]
    }
   ],
   "source": [
    "%%time\n",
    "nearest = si.nearest_synth_train_test(synth, train, test)\n",
    "nearest.to_csv('~/Downloads/nearest_rf_50p.csv', index=False)"
   ]
  },
  {
   "cell_type": "code",
   "execution_count": 7,
   "metadata": {},
   "outputs": [
    {
     "name": "stdout",
     "output_type": "stream",
     "text": [
      "Calculating nearest records to training set...\n",
      "Calculating nearest records to test set...\n",
      "CPU times: user 1h 3min 15s, sys: 46min 16s, total: 1h 49min 32s\n",
      "Wall time: 2h 29min 26s\n"
     ]
    }
   ],
   "source": [
    "%%time\n",
    "nearest_synthpop = si.nearest_synth_train_test(synthpop, train, test)\n",
    "nearest_synthpop.to_csv('~/Downloads/nearest_synthpop_50p.csv', index=False)"
   ]
  }
 ],
 "metadata": {
  "kernelspec": {
   "display_name": "Python 3",
   "language": "python",
   "name": "python3"
  },
  "language_info": {
   "codemirror_mode": {
    "name": "ipython",
    "version": 3
   },
   "file_extension": ".py",
   "mimetype": "text/x-python",
   "name": "python",
   "nbconvert_exporter": "python",
   "pygments_lexer": "ipython3",
   "version": "3.6.6"
  }
 },
 "nbformat": 4,
 "nbformat_minor": 2
}
