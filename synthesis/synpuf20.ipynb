{
 "cells": [
  {
   "cell_type": "markdown",
   "metadata": {},
   "source": [
    "# Synthesis "
   ]
  },
  {
   "cell_type": "markdown",
   "metadata": {},
   "source": [
    "## Setup"
   ]
  },
  {
   "cell_type": "code",
   "execution_count": 1,
   "metadata": {},
   "outputs": [
    {
     "name": "stderr",
     "output_type": "stream",
     "text": [
      "/home/maxghenis/miniconda3/lib/python3.6/site-packages/rpy2/rinterface/__init__.py:145: RRuntimeWarning: During startup - \n",
      "  warnings.warn(x, RRuntimeWarning)\n",
      "/home/maxghenis/miniconda3/lib/python3.6/site-packages/rpy2/rinterface/__init__.py:145: RRuntimeWarning: Warning message:\n",
      "\n",
      "  warnings.warn(x, RRuntimeWarning)\n",
      "/home/maxghenis/miniconda3/lib/python3.6/site-packages/rpy2/rinterface/__init__.py:145: RRuntimeWarning: package 'RevoUtils' was built under R version 3.4.3 \n",
      "\n",
      "  warnings.warn(x, RRuntimeWarning)\n"
     ]
    }
   ],
   "source": [
    "import synpuf\n",
    "import pandas as pd"
   ]
  },
  {
   "cell_type": "code",
   "execution_count": 2,
   "metadata": {},
   "outputs": [],
   "source": [
    "INFILE = '~/puf2011.csv'\n",
    "OUTFILE = '~/Downloads/syntheses/synpuf20.csv'"
   ]
  },
  {
   "cell_type": "code",
   "execution_count": 3,
   "metadata": {},
   "outputs": [],
   "source": [
    "SEED_COLS = ['MARS', 'S006', 'E00100', 'E04600', 'P04470', 'E04800',\n",
    "             'E62100', 'E05800', 'E08800', 'E59560', 'E26190']"
   ]
  },
  {
   "cell_type": "code",
   "execution_count": 4,
   "metadata": {},
   "outputs": [],
   "source": [
    "AGG_RECIDS = [999996, 999997, 999998, 999999]"
   ]
  },
  {
   "cell_type": "code",
   "execution_count": 5,
   "metadata": {},
   "outputs": [],
   "source": [
    "COL_ORDER = ['XTOT', 'EIC', 'F6251', 'F2441', 'DSI', 'MIDR', 'N24', 'FDED', \n",
    "             'E00200', 'E01700', 'e01500_minus_e01700', 'E01500', 'E02400',\n",
    "             'E02000', 'E26270', 'E19200', 'P23250', 'E00900', 'E18400', \n",
    "             'E01400', 'e00600_minus_e00650', 'E00600', 'E00650', 'E18500', 'E19800',\n",
    "             'E17500', 'E20400', 'E00300', 'E02300', 'E00400', 'E20100',\n",
    "             'E09600', 'E87521', 'E00700', 'E03270', 'E03300', 'E32800',\n",
    "             'E87530', 'E07300', 'E62900', 'E24515', 'E03150', 'E03210',\n",
    "             'E03240', 'E00800', 'E03500', 'E09900', 'E27200', 'E03230',\n",
    "             'E24518', 'E03290', 'E07400', 'E58990', 'E01100', 'E11200',\n",
    "             'E07260', 'E07240', 'E03220', 'E07600', 'E03400', 'P08000',\n",
    "             'E09700', 'E09800', 'E02100', 'P22250', 'E01200']"
   ]
  },
  {
   "cell_type": "code",
   "execution_count": 6,
   "metadata": {},
   "outputs": [],
   "source": [
    "COLS = [\n",
    "    'DSI',\n",
    "    'E00200',\n",
    "    'E00300',\n",
    "    'E00400',\n",
    "    'E00600',\n",
    "    'E00650',\n",
    "    'E00700',\n",
    "    'E00800',\n",
    "    'E00900',\n",
    "    'E01100',\n",
    "    'E01200',\n",
    "    'E01400',\n",
    "    'E01500',\n",
    "    'E01700',\n",
    "    'E02000',\n",
    "    'E02100',\n",
    "    'E02300',\n",
    "    'E02400',\n",
    "    'E03150',\n",
    "    'E03210',\n",
    "    'E03220',\n",
    "    'E03230',\n",
    "    'E03240',\n",
    "    'E03270',\n",
    "    'E03290',\n",
    "    'E03300',\n",
    "    'E03400',\n",
    "    'E03500',\n",
    "    'E07240',\n",
    "    'E07260',\n",
    "    'E07300',\n",
    "    'E07400',\n",
    "    'E07600',\n",
    "    'E09700',\n",
    "    'E09800',\n",
    "    'E09900',\n",
    "    'E11200',\n",
    "    'E17500',\n",
    "    'E18400',\n",
    "    'E18500',\n",
    "    'E19200',\n",
    "    'E19800',\n",
    "    'E20100',\n",
    "    'E20400',\n",
    "    'E24515',\n",
    "    'E24518',\n",
    "    'E26270',\n",
    "    'E27200',\n",
    "    'E32800',\n",
    "    'E58990',\n",
    "    'E62900',\n",
    "    'E87521',\n",
    "    'E87530',\n",
    "    'EIC',\n",
    "    'F2441',\n",
    "    'F6251',\n",
    "    'FDED',\n",
    "    'MARS',\n",
    "    'MIDR',\n",
    "    'N24',\n",
    "    'P08000',\n",
    "    'P22250',\n",
    "    'P23250',\n",
    "    'S006',\n",
    "    'XTOT']"
   ]
  },
  {
   "cell_type": "markdown",
   "metadata": {},
   "source": [
    "## Load"
   ]
  },
  {
   "cell_type": "code",
   "execution_count": 7,
   "metadata": {},
   "outputs": [],
   "source": [
    "train = pd.read_csv(INFILE)\n",
    "# Calculate differences of variables that must be nonnegative for Tax-Calculator to run.\n",
    "# Per https://github.com/donboyd5/synpuf/issues/17, e00600 must be weakly greater than\n",
    "# e00650 and e01500 must be weakly greater than e01700.\n",
    "train['e00600_minus_e00650'] = train.E00600 - train.E00650\n",
    "train['e01500_minus_e01700'] = train.E01500 - train.E01700\n",
    "train = train[~train.RECID.isin(AGG_RECIDS)][SEED_COLS + COL_ORDER]"
   ]
  },
  {
   "cell_type": "markdown",
   "metadata": {},
   "source": [
    "## Synthesize"
   ]
  },
  {
   "cell_type": "code",
   "execution_count": 8,
   "metadata": {},
   "outputs": [
    {
     "name": "stdout",
     "output_type": "stream",
     "text": [
      "Synthesizing feature 1 of 66: XTOT...\n",
      "Synthesizing feature 2 of 66: EIC...\n",
      "Synthesizing feature 3 of 66: F6251...\n",
      "Synthesizing feature 4 of 66: F2441...\n",
      "Synthesizing feature 5 of 66: DSI...\n",
      "Synthesizing feature 6 of 66: MIDR...\n",
      "Synthesizing feature 7 of 66: N24...\n",
      "Synthesizing feature 8 of 66: FDED...\n",
      "Synthesizing feature 9 of 66: E00200...\n",
      "Synthesizing feature 10 of 66: E01700...\n",
      "Synthesizing feature 11 of 66: e01500_minus_e01700...\n",
      "Synthesizing feature 12 of 66: E01500...\n",
      "Synthesizing feature 13 of 66: E02400...\n",
      "Synthesizing feature 14 of 66: E02000...\n",
      "Synthesizing feature 15 of 66: E26270...\n",
      "Synthesizing feature 16 of 66: E19200...\n",
      "Synthesizing feature 17 of 66: P23250...\n",
      "Synthesizing feature 18 of 66: E00900...\n",
      "Synthesizing feature 19 of 66: E18400...\n",
      "Synthesizing feature 20 of 66: E01400...\n",
      "Synthesizing feature 21 of 66: e00600_minus_e00650...\n",
      "Synthesizing feature 22 of 66: E00600...\n",
      "Synthesizing feature 23 of 66: E00650...\n",
      "Synthesizing feature 24 of 66: E18500...\n",
      "Synthesizing feature 25 of 66: E19800...\n",
      "Synthesizing feature 26 of 66: E17500...\n",
      "Synthesizing feature 27 of 66: E20400...\n",
      "Synthesizing feature 28 of 66: E00300...\n",
      "Synthesizing feature 29 of 66: E02300...\n",
      "Synthesizing feature 30 of 66: E00400...\n",
      "Synthesizing feature 31 of 66: E20100...\n",
      "Synthesizing feature 32 of 66: E09600...\n",
      "Synthesizing feature 33 of 66: E87521...\n",
      "Synthesizing feature 34 of 66: E00700...\n",
      "Synthesizing feature 35 of 66: E03270...\n",
      "Synthesizing feature 36 of 66: E03300...\n",
      "Synthesizing feature 37 of 66: E32800...\n",
      "Synthesizing feature 38 of 66: E87530...\n",
      "Synthesizing feature 39 of 66: E07300...\n",
      "Synthesizing feature 40 of 66: E62900...\n",
      "Synthesizing feature 41 of 66: E24515...\n",
      "Synthesizing feature 42 of 66: E03150...\n",
      "Synthesizing feature 43 of 66: E03210...\n",
      "Synthesizing feature 44 of 66: E03240...\n",
      "Synthesizing feature 45 of 66: E00800...\n",
      "Synthesizing feature 46 of 66: E03500...\n",
      "Synthesizing feature 47 of 66: E09900...\n",
      "Synthesizing feature 48 of 66: E27200...\n",
      "Synthesizing feature 49 of 66: E03230...\n",
      "Synthesizing feature 50 of 66: E24518...\n",
      "Synthesizing feature 51 of 66: E03290...\n",
      "Synthesizing feature 52 of 66: E07400...\n",
      "Synthesizing feature 53 of 66: E58990...\n",
      "Synthesizing feature 54 of 66: E01100...\n",
      "Synthesizing feature 55 of 66: E11200...\n",
      "Synthesizing feature 56 of 66: E07260...\n",
      "Synthesizing feature 57 of 66: E07240...\n",
      "Synthesizing feature 58 of 66: E03220...\n",
      "Synthesizing feature 59 of 66: E07600...\n",
      "Synthesizing feature 60 of 66: E03400...\n",
      "Synthesizing feature 61 of 66: P08000...\n",
      "Synthesizing feature 62 of 66: E09700...\n",
      "Synthesizing feature 63 of 66: E09800...\n",
      "Synthesizing feature 64 of 66: E02100...\n",
      "Synthesizing feature 65 of 66: P22250...\n",
      "Synthesizing feature 66 of 66: E01200...\n",
      "CPU times: user 1d 9h 1min 8s, sys: 45min 15s, total: 1d 9h 46min 23s\n",
      "Wall time: 14h 30min 42s\n"
     ]
    }
   ],
   "source": [
    "%%time\n",
    "synth = synpuf.synthesize_puf_rf(\n",
    "    train, seed_cols=SEED_COLS, synth_cols=COL_ORDER,\n",
    "    trees=200, n=train.shape[0]*5  # Generate more records.\n",
    ")"
   ]
  },
  {
   "cell_type": "markdown",
   "metadata": {},
   "source": [
    "## Export"
   ]
  },
  {
   "cell_type": "code",
   "execution_count": 9,
   "metadata": {},
   "outputs": [],
   "source": [
    "synth['RECID'] = synth.index + 1"
   ]
  },
  {
   "cell_type": "code",
   "execution_count": 10,
   "metadata": {},
   "outputs": [],
   "source": [
    "synth[COLS + ['RECID']].to_csv(OUTFILE, index=False)"
   ]
  }
 ],
 "metadata": {
  "kernelspec": {
   "display_name": "Python 3",
   "language": "python",
   "name": "python3"
  },
  "language_info": {
   "codemirror_mode": {
    "name": "ipython",
    "version": 3
   },
   "file_extension": ".py",
   "mimetype": "text/x-python",
   "name": "python",
   "nbconvert_exporter": "python",
   "pygments_lexer": "ipython3",
   "version": "3.6.6"
  }
 },
 "nbformat": 4,
 "nbformat_minor": 2
}
