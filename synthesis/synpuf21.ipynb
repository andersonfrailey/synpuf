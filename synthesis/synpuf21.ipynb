{
 "cells": [
  {
   "cell_type": "markdown",
   "metadata": {},
   "source": [
    "# Synthesis "
   ]
  },
  {
   "cell_type": "markdown",
   "metadata": {},
   "source": [
    "## Setup"
   ]
  },
  {
   "cell_type": "code",
   "execution_count": 1,
   "metadata": {},
   "outputs": [
    {
     "name": "stderr",
     "output_type": "stream",
     "text": [
      "/home/maxghenis/miniconda3/lib/python3.6/site-packages/rpy2/rinterface/__init__.py:145: RRuntimeWarning: During startup - \n",
      "  warnings.warn(x, RRuntimeWarning)\n",
      "/home/maxghenis/miniconda3/lib/python3.6/site-packages/rpy2/rinterface/__init__.py:145: RRuntimeWarning: Warning message:\n",
      "\n",
      "  warnings.warn(x, RRuntimeWarning)\n",
      "/home/maxghenis/miniconda3/lib/python3.6/site-packages/rpy2/rinterface/__init__.py:145: RRuntimeWarning: package 'RevoUtils' was built under R version 3.4.3 \n",
      "\n",
      "  warnings.warn(x, RRuntimeWarning)\n"
     ]
    }
   ],
   "source": [
    "import synpuf\n",
    "import pandas as pd"
   ]
  },
  {
   "cell_type": "code",
   "execution_count": 2,
   "metadata": {},
   "outputs": [],
   "source": [
    "INFILE = '~/puf2011.csv'\n",
    "OUTFILE = '~/Downloads/syntheses/synpuf21.csv'"
   ]
  },
  {
   "cell_type": "code",
   "execution_count": 3,
   "metadata": {},
   "outputs": [],
   "source": [
    "SEED_COLS = ['MARS', 'S006', 'E00100', 'E04600', 'P04470', 'E04800',\n",
    "             'E62100', 'E05800', 'E08800', 'E59560', 'E26190']"
   ]
  },
  {
   "cell_type": "code",
   "execution_count": 4,
   "metadata": {},
   "outputs": [],
   "source": [
    "AGG_RECIDS = [999996, 999997, 999998, 999999]"
   ]
  },
  {
   "cell_type": "code",
   "execution_count": null,
   "metadata": {},
   "outputs": [],
   "source": [
    "COL_ORDER = ['XTOT', 'EIC', 'F6251', 'F2441', 'DSI', 'MIDR', 'N24', 'FDED', \n",
    "             'E00200', 'E01700', 'e01500_minus_e01700', 'E01500', 'E02400',\n",
    "             'E02000', 'E26270', 'E19200', 'P23250', 'E00900', 'E18400', \n",
    "             'E01400', 'e00600_minus_e00650', 'E00600', 'E00650', 'E18500', 'E19800',\n",
    "             'E17500', 'E20400', 'E00300', 'E02300', 'E00400', 'E20100',\n",
    "             'E09600', 'E87521', 'E00700', 'E03270', 'E03300', 'E32800',\n",
    "             'E87530', 'E07300', 'E62900', 'E24515', 'E03150', 'E03210',\n",
    "             'E03240', 'E00800', 'E03500', 'E09900', 'E27200', 'E03230',\n",
    "             'E24518', 'E03290', 'E07400', 'E58990', 'E01100', 'E11200',\n",
    "             'E07260', 'E07240', 'E03220', 'E07600', 'E03400', 'P08000',\n",
    "             'E09700', 'E09800', 'E02100', 'P22250', 'E01200']"
   ]
  },
  {
   "cell_type": "code",
   "execution_count": null,
   "metadata": {},
   "outputs": [],
   "source": [
    "COLS = [\n",
    "    'DSI',\n",
    "    'E00200',\n",
    "    'E00300',\n",
    "    'E00400',\n",
    "    'E00600',\n",
    "    'E00650',\n",
    "    'E00700',\n",
    "    'E00800',\n",
    "    'E00900',\n",
    "    'E01100',\n",
    "    'E01200',\n",
    "    'E01400',\n",
    "    'E01500',\n",
    "    'E01700',\n",
    "    'E02000',\n",
    "    'E02100',\n",
    "    'E02300',\n",
    "    'E02400',\n",
    "    'E03150',\n",
    "    'E03210',\n",
    "    'E03220',\n",
    "    'E03230',\n",
    "    'E03240',\n",
    "    'E03270',\n",
    "    'E03290',\n",
    "    'E03300',\n",
    "    'E03400',\n",
    "    'E03500',\n",
    "    'E07240',\n",
    "    'E07260',\n",
    "    'E07300',\n",
    "    'E07400',\n",
    "    'E07600',\n",
    "    'E09700',\n",
    "    'E09800',\n",
    "    'E09900',\n",
    "    'E11200',\n",
    "    'E17500',\n",
    "    'E18400',\n",
    "    'E18500',\n",
    "    'E19200',\n",
    "    'E19800',\n",
    "    'E20100',\n",
    "    'E20400',\n",
    "    'E24515',\n",
    "    'E24518',\n",
    "    'E26270',\n",
    "    'E27200',\n",
    "    'E32800',\n",
    "    'E58990',\n",
    "    'E62900',\n",
    "    'E87521',\n",
    "    'E87530',\n",
    "    'EIC',\n",
    "    'F2441',\n",
    "    'F6251',\n",
    "    'FDED',\n",
    "    'MARS',\n",
    "    'MIDR',\n",
    "    'N24',\n",
    "    'P08000',\n",
    "    'P22250',\n",
    "    'P23250',\n",
    "    'S006',\n",
    "    'XTOT']"
   ]
  },
  {
   "cell_type": "markdown",
   "metadata": {},
   "source": [
    "## Load"
   ]
  },
  {
   "cell_type": "code",
   "execution_count": null,
   "metadata": {},
   "outputs": [],
   "source": [
    "train = pd.read_csv(INFILE)\n",
    "# Calculate differences of variables that must be nonnegative for Tax-Calculator to run.\n",
    "# Per https://github.com/donboyd5/synpuf/issues/17, e00600 must be weakly greater than\n",
    "# e00650 and e01500 must be weakly greater than e01700.\n",
    "train['e00600_minus_e00650'] = train.E00600 - train.E00650\n",
    "train['e01500_minus_e01700'] = train.E01500 - train.E01700\n",
    "train = train[~train.RECID.isin(AGG_RECIDS)][SEED_COLS + COL_ORDER]"
   ]
  },
  {
   "cell_type": "markdown",
   "metadata": {},
   "source": [
    "## Synthesize"
   ]
  },
  {
   "cell_type": "code",
   "execution_count": null,
   "metadata": {},
   "outputs": [
    {
     "name": "stdout",
     "output_type": "stream",
     "text": [
      "Synthesizing feature 1 of 66: XTOT...\n",
      "Synthesizing feature 2 of 66: EIC...\n"
     ]
    }
   ],
   "source": [
    "%%time\n",
    "synth = synpuf.synthesize_puf_rf(\n",
    "    train, seed_cols=SEED_COLS, synth_cols=COL_ORDER, trees=100\n",
    ")"
   ]
  },
  {
   "cell_type": "markdown",
   "metadata": {},
   "source": [
    "## Export"
   ]
  },
  {
   "cell_type": "code",
   "execution_count": null,
   "metadata": {},
   "outputs": [],
   "source": [
    "synth['RECID'] = synth.index + 1"
   ]
  },
  {
   "cell_type": "code",
   "execution_count": null,
   "metadata": {},
   "outputs": [],
   "source": [
    "synth[COLS + ['RECID']].to_csv(OUTFILE, index=False)"
   ]
  }
 ],
 "metadata": {
  "kernelspec": {
   "display_name": "Python 3",
   "language": "python",
   "name": "python3"
  },
  "language_info": {
   "codemirror_mode": {
    "name": "ipython",
    "version": 3
   },
   "file_extension": ".py",
   "mimetype": "text/x-python",
   "name": "python",
   "nbconvert_exporter": "python",
   "pygments_lexer": "ipython3",
   "version": "3.6.6"
  }
 },
 "nbformat": 4,
 "nbformat_minor": 2
}
