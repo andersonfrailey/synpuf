{
 "cells": [
  {
   "cell_type": "markdown",
   "metadata": {},
   "source": [
    "# Synthesis "
   ]
  },
  {
   "cell_type": "markdown",
   "metadata": {},
   "source": [
    "## Setup"
   ]
  },
  {
   "cell_type": "code",
   "execution_count": 1,
   "metadata": {},
   "outputs": [
    {
     "name": "stderr",
     "output_type": "stream",
     "text": [
      "/home/maxghenis/miniconda3/lib/python3.6/site-packages/rpy2/rinterface/__init__.py:145: RRuntimeWarning: During startup - \n",
      "  warnings.warn(x, RRuntimeWarning)\n",
      "/home/maxghenis/miniconda3/lib/python3.6/site-packages/rpy2/rinterface/__init__.py:145: RRuntimeWarning: Warning message:\n",
      "\n",
      "  warnings.warn(x, RRuntimeWarning)\n",
      "/home/maxghenis/miniconda3/lib/python3.6/site-packages/rpy2/rinterface/__init__.py:145: RRuntimeWarning: package 'RevoUtils' was built under R version 3.4.3 \n",
      "\n",
      "  warnings.warn(x, RRuntimeWarning)\n"
     ]
    }
   ],
   "source": [
    "import synpuf\n",
    "import pandas as pd"
   ]
  },
  {
   "cell_type": "markdown",
   "metadata": {},
   "source": [
    "**UPDATE**"
   ]
  },
  {
   "cell_type": "code",
   "execution_count": 7,
   "metadata": {},
   "outputs": [],
   "source": [
    "INFILE = '~/Downloads/puf/puf2011.csv'\n",
    "OUTFILE = '~/Downloads/syntheses/synpuf17.csv'"
   ]
  },
  {
   "cell_type": "code",
   "execution_count": 8,
   "metadata": {},
   "outputs": [],
   "source": [
    "EXTRA_COLS = ['E00100', 'E04600', 'P04470', 'E04800', 'E62100',\n",
    "              'E05800', 'E08800', 'E59560', 'E26190']"
   ]
  },
  {
   "cell_type": "code",
   "execution_count": 9,
   "metadata": {},
   "outputs": [],
   "source": [
    "AGG_RECIDS = [999996, 999997, 999998, 999999]"
   ]
  },
  {
   "cell_type": "markdown",
   "metadata": {},
   "source": [
    "## Load"
   ]
  },
  {
   "cell_type": "code",
   "execution_count": null,
   "metadata": {},
   "outputs": [],
   "source": [
    "raw = pd.read_csv(f, usecols=input_cols)\n",
    "# Calculate differences of variables that must be nonnegative for Tax-Calculator to run.\n",
    "# Per https://github.com/donboyd5/synpuf/issues/17, e00600 must be weakly greater than\n",
    "# e00650 and e01500 must be weakly greater than e01700.\n",
    "raw['e00600_minus_e00650'] = raw.E00600 - raw.E00650\n",
    "raw['e01500_minus_e01700'] = raw.E01500 - raw.E01700\n",
    "raw.drop(['E00600', 'E01500'], axis=1, inplace=True)\n",
    "return raw[~raw.RECID.isin(AGG_RECIDS)].drop('RECID', axis=1)"
   ]
  },
  {
   "cell_type": "code",
   "execution_count": 4,
   "metadata": {},
   "outputs": [],
   "source": [
    "train = pd.read_csv(INFILE).drop(['RECID'], axis=1)"
   ]
  },
  {
   "cell_type": "code",
   "execution_count": 6,
   "metadata": {},
   "outputs": [
    {
     "ename": "AttributeError",
     "evalue": "'DataFrame' object has no attribute 'E08800'",
     "output_type": "error",
     "traceback": [
      "\u001b[0;31m---------------------------------------------------------------------------\u001b[0m",
      "\u001b[0;31mAttributeError\u001b[0m                            Traceback (most recent call last)",
      "\u001b[0;32m<ipython-input-6-5e1d1c06886f>\u001b[0m in \u001b[0;36m<module>\u001b[0;34m\u001b[0m\n\u001b[0;32m----> 1\u001b[0;31m \u001b[0mtrain\u001b[0m\u001b[0;34m.\u001b[0m\u001b[0mE08800\u001b[0m\u001b[0;34m\u001b[0m\u001b[0m\n\u001b[0m",
      "\u001b[0;32m~/miniconda3/lib/python3.6/site-packages/pandas/core/generic.py\u001b[0m in \u001b[0;36m__getattr__\u001b[0;34m(self, name)\u001b[0m\n\u001b[1;32m   4374\u001b[0m             \u001b[0;32mif\u001b[0m \u001b[0mself\u001b[0m\u001b[0;34m.\u001b[0m\u001b[0m_info_axis\u001b[0m\u001b[0;34m.\u001b[0m\u001b[0m_can_hold_identifiers_and_holds_name\u001b[0m\u001b[0;34m(\u001b[0m\u001b[0mname\u001b[0m\u001b[0;34m)\u001b[0m\u001b[0;34m:\u001b[0m\u001b[0;34m\u001b[0m\u001b[0m\n\u001b[1;32m   4375\u001b[0m                 \u001b[0;32mreturn\u001b[0m \u001b[0mself\u001b[0m\u001b[0;34m[\u001b[0m\u001b[0mname\u001b[0m\u001b[0;34m]\u001b[0m\u001b[0;34m\u001b[0m\u001b[0m\n\u001b[0;32m-> 4376\u001b[0;31m             \u001b[0;32mreturn\u001b[0m \u001b[0mobject\u001b[0m\u001b[0;34m.\u001b[0m\u001b[0m__getattribute__\u001b[0m\u001b[0;34m(\u001b[0m\u001b[0mself\u001b[0m\u001b[0;34m,\u001b[0m \u001b[0mname\u001b[0m\u001b[0;34m)\u001b[0m\u001b[0;34m\u001b[0m\u001b[0m\n\u001b[0m\u001b[1;32m   4377\u001b[0m \u001b[0;34m\u001b[0m\u001b[0m\n\u001b[1;32m   4378\u001b[0m     \u001b[0;32mdef\u001b[0m \u001b[0m__setattr__\u001b[0m\u001b[0;34m(\u001b[0m\u001b[0mself\u001b[0m\u001b[0;34m,\u001b[0m \u001b[0mname\u001b[0m\u001b[0;34m,\u001b[0m \u001b[0mvalue\u001b[0m\u001b[0;34m)\u001b[0m\u001b[0;34m:\u001b[0m\u001b[0;34m\u001b[0m\u001b[0m\n",
      "\u001b[0;31mAttributeError\u001b[0m: 'DataFrame' object has no attribute 'E08800'"
     ]
    }
   ],
   "source": [
    "train.E08800"
   ]
  },
  {
   "cell_type": "markdown",
   "metadata": {},
   "source": [
    "## Synthesize"
   ]
  },
  {
   "cell_type": "code",
   "execution_count": 4,
   "metadata": {},
   "outputs": [
    {
     "name": "stdout",
     "output_type": "stream",
     "text": [
      "Synthesizing feature 1 of 58: E02300...\n",
      "Synthesizing feature 2 of 58: E07240...\n",
      "Synthesizing feature 3 of 58: E18500...\n",
      "Synthesizing feature 4 of 58: E20400...\n",
      "Synthesizing feature 5 of 58: E02000...\n",
      "Synthesizing feature 6 of 58: E02100...\n",
      "Synthesizing feature 7 of 58: E03400...\n",
      "Synthesizing feature 8 of 58: E09800...\n",
      "Synthesizing feature 9 of 58: E27200...\n",
      "Synthesizing feature 10 of 58: E03220...\n",
      "Synthesizing feature 11 of 58: E02400...\n",
      "Synthesizing feature 12 of 58: e01500_minus_e01700...\n",
      "Synthesizing feature 13 of 58: F2441...\n",
      "Synthesizing feature 14 of 58: E00900...\n",
      "Synthesizing feature 15 of 58: P22250...\n",
      "Synthesizing feature 16 of 58: EIC...\n",
      "Synthesizing feature 17 of 58: E00200...\n",
      "Synthesizing feature 18 of 58: E24515...\n",
      "Synthesizing feature 19 of 58: E01400...\n",
      "Synthesizing feature 20 of 58: E03270...\n",
      "Synthesizing feature 21 of 58: E03500...\n",
      "Synthesizing feature 22 of 58: E20100...\n",
      "Synthesizing feature 23 of 58: E00700...\n",
      "Synthesizing feature 24 of 58: E26270...\n",
      "Synthesizing feature 25 of 58: E07600...\n",
      "Synthesizing feature 26 of 58: E07400...\n",
      "Synthesizing feature 27 of 58: E01200...\n",
      "Synthesizing feature 28 of 58: E00650...\n",
      "Synthesizing feature 29 of 58: E62900...\n",
      "Synthesizing feature 30 of 58: E24518...\n",
      "Synthesizing feature 31 of 58: E32800...\n",
      "Synthesizing feature 32 of 58: E11200...\n",
      "Synthesizing feature 33 of 58: E09700...\n",
      "Synthesizing feature 34 of 58: E00400...\n",
      "Synthesizing feature 35 of 58: E19800...\n",
      "Synthesizing feature 36 of 58: P23250...\n",
      "Synthesizing feature 37 of 58: E00800...\n",
      "Synthesizing feature 38 of 58: E03300...\n",
      "Synthesizing feature 39 of 58: E03240...\n",
      "Synthesizing feature 40 of 58: P08000...\n",
      "Synthesizing feature 41 of 58: E87521...\n",
      "Synthesizing feature 42 of 58: E19200...\n",
      "Synthesizing feature 43 of 58: E01700...\n",
      "Synthesizing feature 44 of 58: E03210...\n",
      "Synthesizing feature 45 of 58: E01100...\n",
      "Synthesizing feature 46 of 58: E18400...\n",
      "Synthesizing feature 47 of 58: E00300...\n",
      "Synthesizing feature 48 of 58: E07260...\n",
      "Synthesizing feature 49 of 58: E03290...\n",
      "Synthesizing feature 50 of 58: E07300...\n",
      "Synthesizing feature 51 of 58: E09900...\n",
      "Synthesizing feature 52 of 58: E58990...\n",
      "Synthesizing feature 53 of 58: E03230...\n",
      "Synthesizing feature 54 of 58: e00600_minus_e00650...\n",
      "Synthesizing feature 55 of 58: E87530...\n",
      "Synthesizing feature 56 of 58: E17500...\n",
      "Synthesizing feature 57 of 58: N24...\n",
      "Synthesizing feature 58 of 58: E03150...\n",
      "CPU times: user 9h 4min 15s, sys: 12min 50s, total: 9h 17min 6s\n",
      "Wall time: 3h 49min 36s\n"
     ]
    }
   ],
   "source": [
    "%%time\n",
    "synth = synpuf.synthesize_puf_rf(train,\n",
    "                                 seed_cols=synpuf.get_puf_columns(calculated=False), \n",
    "                                 trees=100, n=train.shape[0]*5  # Generate more records.\n",
    "                                )"
   ]
  },
  {
   "cell_type": "markdown",
   "metadata": {},
   "source": [
    "## Export"
   ]
  },
  {
   "cell_type": "code",
   "execution_count": 5,
   "metadata": {},
   "outputs": [],
   "source": [
    "synth.to_csv(OUTFILE, index=False)"
   ]
  }
 ],
 "metadata": {
  "kernelspec": {
   "display_name": "Python 3",
   "language": "python",
   "name": "python3"
  },
  "language_info": {
   "codemirror_mode": {
    "name": "ipython",
    "version": 3
   },
   "file_extension": ".py",
   "mimetype": "text/x-python",
   "name": "python",
   "nbconvert_exporter": "python",
   "pygments_lexer": "ipython3",
   "version": "3.6.6"
  }
 },
 "nbformat": 4,
 "nbformat_minor": 2
}
