{
 "cells": [
  {
   "cell_type": "markdown",
   "metadata": {},
   "source": [
    "# Align Don synthesis\n",
    "\n",
    "Make Don's synthesis the same format as those produced by Max."
   ]
  },
  {
   "cell_type": "markdown",
   "metadata": {},
   "source": [
    "## Setup"
   ]
  },
  {
   "cell_type": "code",
   "execution_count": 1,
   "metadata": {},
   "outputs": [],
   "source": [
    "import pandas as pd"
   ]
  },
  {
   "cell_type": "code",
   "execution_count": 2,
   "metadata": {},
   "outputs": [],
   "source": [
    "SYN_DIR = '~/Downloads/syntheses/'"
   ]
  },
  {
   "cell_type": "markdown",
   "metadata": {},
   "source": [
    "## Load"
   ]
  },
  {
   "cell_type": "code",
   "execution_count": 3,
   "metadata": {},
   "outputs": [],
   "source": [
    "don = pd.read_csv(SYN_DIR + 'train50_synthpop.csv')\n",
    "template = pd.read_csv(SYN_DIR + 'synpuf14.csv')"
   ]
  },
  {
   "cell_type": "markdown",
   "metadata": {},
   "source": [
    "## Explore"
   ]
  },
  {
   "cell_type": "code",
   "execution_count": 4,
   "metadata": {},
   "outputs": [
    {
     "data": {
      "text/plain": [
       "Index(['pufseqn', 'MARS', 'wt', 'XTOT', 'EIC', 'f6251', 'f2441', 'DSI', 'MIDR',\n",
       "       'n24', 'FDED', 'e00200', 'e01700', 'e01500_minus_e01700', 'e01500',\n",
       "       'e02400', 'e02000', 'e26270', 'e19200', 'p23250', 'e00900', 'e18400',\n",
       "       'e01400', 'divratio', 'e00600', 'e00650', 'e18500', 'e19800', 'e17500',\n",
       "       'e20400', 'e00300', 'e02300', 'e00400', 'e20100', 'e09600', 'e87521',\n",
       "       'e00700', 'e03270', 'e03300', 'e32800', 'e87530', 'e07300', 'e62900',\n",
       "       'e24515', 'e03150', 'e03210', 'e03240', 'e00800', 'e03500', 'e09900',\n",
       "       'e27200', 'e03230', 'e24518', 'e03290', 'e07400', 'e58990', 'e01100',\n",
       "       'e11200', 'e07260', 'e07240', 'e03220', 'e07600', 'e03400', 'p08000',\n",
       "       'e09700', 'e09800', 'e02100', 'p22250', 'e01200', 'ftype'],\n",
       "      dtype='object')"
      ]
     },
     "execution_count": 4,
     "metadata": {},
     "output_type": "execute_result"
    }
   ],
   "source": [
    "don.columns"
   ]
  },
  {
   "cell_type": "code",
   "execution_count": 5,
   "metadata": {},
   "outputs": [
    {
     "data": {
      "text/plain": [
       "Index(['DSI', 'EIC', 'FDED', 'F2441', 'F6251', 'MARS', 'MIDR', 'N24', 'XTOT',\n",
       "       'E00200', 'E00300', 'E00400', 'E00650', 'E00700', 'E00800', 'E00900',\n",
       "       'E01100', 'E01200', 'E01400', 'E01700', 'E02000', 'E02100', 'E02300',\n",
       "       'E02400', 'E03150', 'E03210', 'E03220', 'E03230', 'E03270', 'E03240',\n",
       "       'E03290', 'E03300', 'E03400', 'E03500', 'E07240', 'E07260', 'E07300',\n",
       "       'E07400', 'E07600', 'P08000', 'E09700', 'E09800', 'E09900', 'E11200',\n",
       "       'E17500', 'E18400', 'E18500', 'E19200', 'E19800', 'E20100', 'E20400',\n",
       "       'P22250', 'P23250', 'E24515', 'E24518', 'E26270', 'E27200', 'E32800',\n",
       "       'E58990', 'E62900', 'E87521', 'E87530', 'S006', 'e00600_minus_e00650',\n",
       "       'e01500_minus_e01700', 'E00600', 'E01500'],\n",
       "      dtype='object')"
      ]
     },
     "execution_count": 5,
     "metadata": {},
     "output_type": "execute_result"
    }
   ],
   "source": [
    "template.columns"
   ]
  },
  {
   "cell_type": "markdown",
   "metadata": {},
   "source": [
    "## Align"
   ]
  },
  {
   "cell_type": "code",
   "execution_count": 6,
   "metadata": {},
   "outputs": [],
   "source": [
    "don.columns = [x.upper() for x in don.columns]"
   ]
  },
  {
   "cell_type": "code",
   "execution_count": 7,
   "metadata": {},
   "outputs": [],
   "source": [
    "don['S006'] = don.WT * 100"
   ]
  },
  {
   "cell_type": "code",
   "execution_count": 8,
   "metadata": {},
   "outputs": [],
   "source": [
    "don['e00600_minus_e00650'] = don.E00600 - don.E00650\n",
    "don['e01500_minus_e01700'] = don.E01500 - don.E01700"
   ]
  },
  {
   "cell_type": "code",
   "execution_count": 9,
   "metadata": {},
   "outputs": [],
   "source": [
    "don = don[template.columns]"
   ]
  },
  {
   "cell_type": "markdown",
   "metadata": {},
   "source": [
    "## Export"
   ]
  },
  {
   "cell_type": "code",
   "execution_count": 10,
   "metadata": {},
   "outputs": [],
   "source": [
    "don.to_csv(SYN_DIR + 'synpuf13.csv')"
   ]
  }
 ],
 "metadata": {
  "kernelspec": {
   "display_name": "Python 3",
   "language": "python",
   "name": "python3"
  },
  "language_info": {
   "codemirror_mode": {
    "name": "ipython",
    "version": 3
   },
   "file_extension": ".py",
   "mimetype": "text/x-python",
   "name": "python",
   "nbconvert_exporter": "python",
   "pygments_lexer": "ipython3",
   "version": "3.6.6"
  }
 },
 "nbformat": 4,
 "nbformat_minor": 2
}
